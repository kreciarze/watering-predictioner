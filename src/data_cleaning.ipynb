{
 "cells": [
  {
   "cell_type": "code",
   "id": "b0ff1b0e1e75a4dd",
   "metadata": {
    "collapsed": true,
    "ExecuteTime": {
     "end_time": "2024-05-31T15:14:55.084508Z",
     "start_time": "2024-05-31T15:14:54.776411Z"
    }
   },
   "source": [
    "import pandas as pd\n",
    "from config import CLEANED_TARP_CSV_FILENAME, TARP_CSV_FILENAME"
   ],
   "outputs": [],
   "execution_count": 1
  },
  {
   "metadata": {
    "ExecuteTime": {
     "end_time": "2024-05-31T15:14:55.242035Z",
     "start_time": "2024-05-31T15:14:55.085844Z"
    }
   },
   "cell_type": "code",
   "source": [
    "tarp_df = pd.read_csv(TARP_CSV_FILENAME)\n",
    "tarp_df.head()"
   ],
   "id": "initial_id",
   "outputs": [
    {
     "data": {
      "text/plain": "   Soil Moisture  Temperature   Soil Humidity  Time  Air temperature (C)  \\\n0             54           22              70    21                19.52   \n1             12           20              40   104                19.49   \n2             34           26              35    62                19.47   \n3              7           44              44    93                19.54   \n4             50           38              23    92                19.61   \n\n   Wind speed (Km/h)  Air humidity (%)  Wind gust (Km/h)  Pressure (KPa)  \\\n0               2.13             55.04              6.30          101.50   \n1               2.01             55.17             10.46          101.50   \n2               1.90             55.30             14.63          101.51   \n3               2.28             54.20             16.08          101.51   \n4               2.66             53.09             17.52          101.51   \n\n         ph    rainfall     N     P     K Status  \n0  6.502985  202.935536  90.0  42.0  43.0     ON  \n1  7.038096  226.655537  85.0  58.0  41.0    OFF  \n2  7.840207  263.964248  60.0  55.0  44.0     ON  \n3  6.980401  242.864034  74.0  35.0  40.0    OFF  \n4  7.628473  262.717340  78.0  42.0  42.0    OFF  ",
      "text/html": "<div>\n<style scoped>\n    .dataframe tbody tr th:only-of-type {\n        vertical-align: middle;\n    }\n\n    .dataframe tbody tr th {\n        vertical-align: top;\n    }\n\n    .dataframe thead th {\n        text-align: right;\n    }\n</style>\n<table border=\"1\" class=\"dataframe\">\n  <thead>\n    <tr style=\"text-align: right;\">\n      <th></th>\n      <th>Soil Moisture</th>\n      <th>Temperature</th>\n      <th>Soil Humidity</th>\n      <th>Time</th>\n      <th>Air temperature (C)</th>\n      <th>Wind speed (Km/h)</th>\n      <th>Air humidity (%)</th>\n      <th>Wind gust (Km/h)</th>\n      <th>Pressure (KPa)</th>\n      <th>ph</th>\n      <th>rainfall</th>\n      <th>N</th>\n      <th>P</th>\n      <th>K</th>\n      <th>Status</th>\n    </tr>\n  </thead>\n  <tbody>\n    <tr>\n      <th>0</th>\n      <td>54</td>\n      <td>22</td>\n      <td>70</td>\n      <td>21</td>\n      <td>19.52</td>\n      <td>2.13</td>\n      <td>55.04</td>\n      <td>6.30</td>\n      <td>101.50</td>\n      <td>6.502985</td>\n      <td>202.935536</td>\n      <td>90.0</td>\n      <td>42.0</td>\n      <td>43.0</td>\n      <td>ON</td>\n    </tr>\n    <tr>\n      <th>1</th>\n      <td>12</td>\n      <td>20</td>\n      <td>40</td>\n      <td>104</td>\n      <td>19.49</td>\n      <td>2.01</td>\n      <td>55.17</td>\n      <td>10.46</td>\n      <td>101.50</td>\n      <td>7.038096</td>\n      <td>226.655537</td>\n      <td>85.0</td>\n      <td>58.0</td>\n      <td>41.0</td>\n      <td>OFF</td>\n    </tr>\n    <tr>\n      <th>2</th>\n      <td>34</td>\n      <td>26</td>\n      <td>35</td>\n      <td>62</td>\n      <td>19.47</td>\n      <td>1.90</td>\n      <td>55.30</td>\n      <td>14.63</td>\n      <td>101.51</td>\n      <td>7.840207</td>\n      <td>263.964248</td>\n      <td>60.0</td>\n      <td>55.0</td>\n      <td>44.0</td>\n      <td>ON</td>\n    </tr>\n    <tr>\n      <th>3</th>\n      <td>7</td>\n      <td>44</td>\n      <td>44</td>\n      <td>93</td>\n      <td>19.54</td>\n      <td>2.28</td>\n      <td>54.20</td>\n      <td>16.08</td>\n      <td>101.51</td>\n      <td>6.980401</td>\n      <td>242.864034</td>\n      <td>74.0</td>\n      <td>35.0</td>\n      <td>40.0</td>\n      <td>OFF</td>\n    </tr>\n    <tr>\n      <th>4</th>\n      <td>50</td>\n      <td>38</td>\n      <td>23</td>\n      <td>92</td>\n      <td>19.61</td>\n      <td>2.66</td>\n      <td>53.09</td>\n      <td>17.52</td>\n      <td>101.51</td>\n      <td>7.628473</td>\n      <td>262.717340</td>\n      <td>78.0</td>\n      <td>42.0</td>\n      <td>42.0</td>\n      <td>OFF</td>\n    </tr>\n  </tbody>\n</table>\n</div>"
     },
     "execution_count": 2,
     "metadata": {},
     "output_type": "execute_result"
    }
   ],
   "execution_count": 2
  },
  {
   "metadata": {
    "ExecuteTime": {
     "end_time": "2024-05-31T15:14:55.255555Z",
     "start_time": "2024-05-31T15:14:55.243446Z"
    }
   },
   "cell_type": "code",
   "source": [
    "tarp_df.info()"
   ],
   "id": "7b0397976a3e14c6",
   "outputs": [
    {
     "name": "stdout",
     "output_type": "stream",
     "text": [
      "<class 'pandas.core.frame.DataFrame'>\n",
      "RangeIndex: 100000 entries, 0 to 99999\n",
      "Data columns (total 15 columns):\n",
      " #   Column               Non-Null Count   Dtype  \n",
      "---  ------               --------------   -----  \n",
      " 0   Soil Moisture        100000 non-null  int64  \n",
      " 1   Temperature          100000 non-null  int64  \n",
      " 2    Soil Humidity       100000 non-null  int64  \n",
      " 3   Time                 100000 non-null  int64  \n",
      " 4   Air temperature (C)  23995 non-null   float64\n",
      " 5   Wind speed (Km/h)    23995 non-null   float64\n",
      " 6   Air humidity (%)     23995 non-null   float64\n",
      " 7   Wind gust (Km/h)     23995 non-null   float64\n",
      " 8   Pressure (KPa)       23995 non-null   float64\n",
      " 9   ph                   2200 non-null    float64\n",
      " 10  rainfall             2200 non-null    float64\n",
      " 11  N                    2200 non-null    float64\n",
      " 12  P                    2200 non-null    float64\n",
      " 13  K                    2200 non-null    float64\n",
      " 14  Status               100000 non-null  object \n",
      "dtypes: float64(10), int64(4), object(1)\n",
      "memory usage: 11.4+ MB\n"
     ]
    }
   ],
   "execution_count": 3
  },
  {
   "metadata": {
    "ExecuteTime": {
     "end_time": "2024-05-31T15:14:55.262610Z",
     "start_time": "2024-05-31T15:14:55.257735Z"
    }
   },
   "cell_type": "code",
   "source": [
    "unknown_columns = {11, 12, 13}\n",
    "columns_to_skip = {2, 5, 7, 9, 10} | unknown_columns\n",
    "columns = set(range(15)) - columns_to_skip\n",
    "columns"
   ],
   "id": "aebe3dfc54b10641",
   "outputs": [
    {
     "data": {
      "text/plain": "{0, 1, 3, 4, 6, 8, 14}"
     },
     "execution_count": 4,
     "metadata": {},
     "output_type": "execute_result"
    }
   ],
   "execution_count": 4
  },
  {
   "metadata": {
    "ExecuteTime": {
     "end_time": "2024-05-31T15:14:55.330638Z",
     "start_time": "2024-05-31T15:14:55.264992Z"
    }
   },
   "cell_type": "code",
   "source": [
    "tarp_df = pd.read_csv(TARP_CSV_FILENAME, usecols=columns)\n",
    "tarp_df.head()"
   ],
   "id": "2652f1ec57840043",
   "outputs": [
    {
     "data": {
      "text/plain": "   Soil Moisture  Temperature  Time  Air temperature (C)  Air humidity (%)  \\\n0             54           22    21                19.52             55.04   \n1             12           20   104                19.49             55.17   \n2             34           26    62                19.47             55.30   \n3              7           44    93                19.54             54.20   \n4             50           38    92                19.61             53.09   \n\n   Pressure (KPa) Status  \n0          101.50     ON  \n1          101.50    OFF  \n2          101.51     ON  \n3          101.51    OFF  \n4          101.51    OFF  ",
      "text/html": "<div>\n<style scoped>\n    .dataframe tbody tr th:only-of-type {\n        vertical-align: middle;\n    }\n\n    .dataframe tbody tr th {\n        vertical-align: top;\n    }\n\n    .dataframe thead th {\n        text-align: right;\n    }\n</style>\n<table border=\"1\" class=\"dataframe\">\n  <thead>\n    <tr style=\"text-align: right;\">\n      <th></th>\n      <th>Soil Moisture</th>\n      <th>Temperature</th>\n      <th>Time</th>\n      <th>Air temperature (C)</th>\n      <th>Air humidity (%)</th>\n      <th>Pressure (KPa)</th>\n      <th>Status</th>\n    </tr>\n  </thead>\n  <tbody>\n    <tr>\n      <th>0</th>\n      <td>54</td>\n      <td>22</td>\n      <td>21</td>\n      <td>19.52</td>\n      <td>55.04</td>\n      <td>101.50</td>\n      <td>ON</td>\n    </tr>\n    <tr>\n      <th>1</th>\n      <td>12</td>\n      <td>20</td>\n      <td>104</td>\n      <td>19.49</td>\n      <td>55.17</td>\n      <td>101.50</td>\n      <td>OFF</td>\n    </tr>\n    <tr>\n      <th>2</th>\n      <td>34</td>\n      <td>26</td>\n      <td>62</td>\n      <td>19.47</td>\n      <td>55.30</td>\n      <td>101.51</td>\n      <td>ON</td>\n    </tr>\n    <tr>\n      <th>3</th>\n      <td>7</td>\n      <td>44</td>\n      <td>93</td>\n      <td>19.54</td>\n      <td>54.20</td>\n      <td>101.51</td>\n      <td>OFF</td>\n    </tr>\n    <tr>\n      <th>4</th>\n      <td>50</td>\n      <td>38</td>\n      <td>92</td>\n      <td>19.61</td>\n      <td>53.09</td>\n      <td>101.51</td>\n      <td>OFF</td>\n    </tr>\n  </tbody>\n</table>\n</div>"
     },
     "execution_count": 5,
     "metadata": {},
     "output_type": "execute_result"
    }
   ],
   "execution_count": 5
  },
  {
   "metadata": {
    "ExecuteTime": {
     "end_time": "2024-05-31T15:14:55.339009Z",
     "start_time": "2024-05-31T15:14:55.332880Z"
    }
   },
   "cell_type": "code",
   "source": [
    "# normalize column names, delete parentheses and spaces\n",
    "tarp_df.columns = tarp_df.columns.str.replace(r\"\\s*\\([^)]*\\)\", \"\", regex=True)\n",
    "tarp_df.columns = tarp_df.columns.str.lower().str.replace(\" \", \"_\")\n",
    "tarp_df.columns"
   ],
   "id": "c84c0a394ec22854",
   "outputs": [
    {
     "data": {
      "text/plain": "Index(['soil_moisture', 'temperature', 'time', 'air_temperature',\n       'air_humidity', 'pressure', 'status'],\n      dtype='object')"
     },
     "execution_count": 6,
     "metadata": {},
     "output_type": "execute_result"
    }
   ],
   "execution_count": 6
  },
  {
   "metadata": {
    "ExecuteTime": {
     "end_time": "2024-05-31T15:14:55.344191Z",
     "start_time": "2024-05-31T15:14:55.339996Z"
    }
   },
   "cell_type": "code",
   "source": [
    "tarp_df.shape"
   ],
   "id": "e2721696786b68ff",
   "outputs": [
    {
     "data": {
      "text/plain": "(100000, 7)"
     },
     "execution_count": 7,
     "metadata": {},
     "output_type": "execute_result"
    }
   ],
   "execution_count": 7
  },
  {
   "metadata": {
    "ExecuteTime": {
     "end_time": "2024-05-31T15:14:55.355905Z",
     "start_time": "2024-05-31T15:14:55.346163Z"
    }
   },
   "cell_type": "code",
   "source": [
    "# remove rows with null value\n",
    "tarp_df = tarp_df.dropna()\n",
    "tarp_df.shape"
   ],
   "id": "9b49cf31c5b6d694",
   "outputs": [
    {
     "data": {
      "text/plain": "(23995, 7)"
     },
     "execution_count": 8,
     "metadata": {},
     "output_type": "execute_result"
    }
   ],
   "execution_count": 8
  },
  {
   "metadata": {
    "ExecuteTime": {
     "end_time": "2024-05-31T15:14:55.363521Z",
     "start_time": "2024-05-31T15:14:55.357154Z"
    }
   },
   "cell_type": "code",
   "source": [
    "mapping = {\"ON\": 1, \"OFF\": 0}\n",
    "# change status to int 0/1\n",
    "tarp_df.status = tarp_df.status.map(mapping)\n",
    "tarp_df.info()"
   ],
   "id": "49b0874c6f633bbf",
   "outputs": [
    {
     "name": "stdout",
     "output_type": "stream",
     "text": [
      "<class 'pandas.core.frame.DataFrame'>\n",
      "Index: 23995 entries, 0 to 26300\n",
      "Data columns (total 7 columns):\n",
      " #   Column           Non-Null Count  Dtype  \n",
      "---  ------           --------------  -----  \n",
      " 0   soil_moisture    23995 non-null  int64  \n",
      " 1   temperature      23995 non-null  int64  \n",
      " 2   time             23995 non-null  int64  \n",
      " 3   air_temperature  23995 non-null  float64\n",
      " 4   air_humidity     23995 non-null  float64\n",
      " 5   pressure         23995 non-null  float64\n",
      " 6   status           23995 non-null  int64  \n",
      "dtypes: float64(3), int64(4)\n",
      "memory usage: 1.5 MB\n"
     ]
    }
   ],
   "execution_count": 9
  },
  {
   "metadata": {
    "ExecuteTime": {
     "end_time": "2024-05-31T15:14:55.483755Z",
     "start_time": "2024-05-31T15:14:55.365201Z"
    }
   },
   "cell_type": "code",
   "source": [
    "tarp_df.to_csv(CLEANED_TARP_CSV_FILENAME, index=False)"
   ],
   "id": "a7cea57f70a36ef4",
   "outputs": [],
   "execution_count": 10
  },
  {
   "metadata": {
    "ExecuteTime": {
     "end_time": "2024-05-31T15:14:55.495584Z",
     "start_time": "2024-05-31T15:14:55.487608Z"
    }
   },
   "cell_type": "code",
   "source": [
    "tarp_df.pressure.describe()"
   ],
   "id": "3c4191cc7b738a31",
   "outputs": [
    {
     "data": {
      "text/plain": "count    23995.000000\nmean       101.131418\nstd          0.218448\nmin        100.500000\n25%        100.980000\n50%        101.120000\n75%        101.260000\nmax        101.860000\nName: pressure, dtype: float64"
     },
     "execution_count": 11,
     "metadata": {},
     "output_type": "execute_result"
    }
   ],
   "execution_count": 11
  }
 ],
 "metadata": {
  "kernelspec": {
   "display_name": "Python 3",
   "language": "python",
   "name": "python3"
  },
  "language_info": {
   "codemirror_mode": {
    "name": "ipython",
    "version": 2
   },
   "file_extension": ".py",
   "mimetype": "text/x-python",
   "name": "python",
   "nbconvert_exporter": "python",
   "pygments_lexer": "ipython2",
   "version": "2.7.6"
  }
 },
 "nbformat": 4,
 "nbformat_minor": 5
}
